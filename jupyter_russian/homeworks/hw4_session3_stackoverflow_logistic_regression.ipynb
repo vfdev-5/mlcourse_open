{
 "cells": [
  {
   "cell_type": "markdown",
   "metadata": {},
   "source": [
    "<center>\n",
    "<img src=\"../../img/ods_stickers.jpg\">\n",
    "## Открытый курс по машинному обучению. Сессия № 3\n",
    "<center> Автор материала: Павел Нестеров (@mephistopheies).\n",
    "\n",
    "Материал распространяется на условиях лицензии [Creative Commons CC BY-NC-SA 4.0](https://creativecommons.org/licenses/by-nc-sa/4.0/). Можно использовать в любых целях (редактировать, поправлять и брать за основу), кроме коммерческих, но с обязательным упоминанием автора материала."
   ]
  },
  {
   "cell_type": "markdown",
   "metadata": {},
   "source": [
    "# <center> Домашняя работа №4\n",
    "## <center> Логистическая регрессия в задаче тегирования вопросов StackOverflow\n",
    "\n",
    "**Надо вывести формулы, где это просится (да, ручка и бумажка), заполнить код в клетках и выбрать ответы в [веб-форме](https://docs.google.com/forms/d/100c3Ek94UL-VRwXrN4lxCSnGjfJrl6Gc96G21DNCh4w).**\n",
    "\n",
    "## 0. Описание задачи\n",
    "\n",
    "В этой домашней работе мы с вами изучим и запрограммируем модель для прогнозирования тегов по тексту вопроса на базе многоклассовой логистической регрессии. В отличие от обычной постановки задачи классификации (multiclass), в данном случае один пример может принадлежать одновременно к нескольким классам (multilabel). Мы будем реализовывать онлайн-версию алгоритма multilabel-классификации.\n",
    "\n",
    "Мы будем использовать небольшую выборку из протеггированных вопросов с сайта StackOverflow размером в 125 тысяч примеров (около 150 Мб, скачайте по [этой](https://drive.google.com/open?id=0B4bl7YMqDnViYVo0V2FubFVhMFE) ссылке).\n",
    "\n",
    "PS: Можно показать, что такая реализация совсем не эффективная и проще было бы использовать векторизированные вычисления. Для данного датасета так и есть. Но на самом деле подобные реализации используются в жизни, но естественно, написаны они не на Python. Например, в онлайн-моделях прогнозирования [CTR](https://en.wikipedia.org/wiki/Click-through_rate) юзеру показывается баннер, затем в зависимости от наличия клика происходит обновление параметров модели. В реальной жизни параметров модели может быть несколько сотен миллионов, а у юзера из этих ста миллионов от силы сто или тысяча параметров отличны от нуля, векторизировать такие вычисления не очень эффективно. Обычно все это хранится в огромных кластерах в in-memory базах данных, а обработка пользователей происходит распределенно.\n",
    "\n",
    "PS2:\n",
    "- в процессе решения домашней работы вам придется работать с текстом, и у вас может возникнуть желание сделать очевидный препроцессинг, например привести все слова в нижний регистр, в-общем **этого делать не нужно, если не оговорено заранее в задании**"
   ]
  },
  {
   "cell_type": "code",
   "execution_count": 1,
   "metadata": {},
   "outputs": [],
   "source": [
    "#!pip install watermark\n",
    "%load_ext watermark"
   ]
  },
  {
   "cell_type": "markdown",
   "metadata": {},
   "source": [
    "Выведем версии используемых библиотек. Совпадут ли ответы в случае других версий - не гарантируется."
   ]
  },
  {
   "cell_type": "code",
   "execution_count": 2,
   "metadata": {},
   "outputs": [
    {
     "name": "stdout",
     "output_type": "stream",
     "text": [
      "CPython 3.5.2\n",
      "IPython 6.2.1\n",
      "\n",
      "numpy 1.14.0\n",
      "scipy 1.0.0\n",
      "pandas 0.22.0\n",
      "matplotlib 2.1.2\n",
      "sklearn 0.19.1\n",
      "\n",
      "compiler   : GCC 5.4.0 20160609\n",
      "system     : Linux\n",
      "release    : 4.10.0-28-generic\n",
      "machine    : x86_64\n",
      "processor  : x86_64\n",
      "CPU cores  : 12\n",
      "interpreter: 64bit\n",
      "Git hash   : cb0c8fbf2af181265798ee2f1afdae39cae39cf2\n"
     ]
    }
   ],
   "source": [
    "%watermark -v -m -p numpy,scipy,pandas,matplotlib,sklearn -g"
   ]
  },
  {
   "cell_type": "code",
   "execution_count": 3,
   "metadata": {},
   "outputs": [],
   "source": [
    "%matplotlib inline\n",
    "import numpy as np\n",
    "import matplotlib.pyplot as plt\n",
    "import seaborn as sns\n",
    "sns.set_style(\"dark\")\n",
    "plt.rcParams['figure.figsize'] = 16, 12\n",
    "from tqdm import tqdm_notebook\n",
    "import pandas as pd\n",
    "from collections import defaultdict\n",
    "\n",
    "# поменяйте на свой путь\n",
    "DS_FILE_NAME = '../../data/stackoverflow_sample_125k.tsv'\n",
    "TAGS_FILE_NAME = '../../data/top10_tags.tsv'"
   ]
  },
  {
   "cell_type": "code",
   "execution_count": 4,
   "metadata": {},
   "outputs": [
    {
     "name": "stdout",
     "output_type": "stream",
     "text": [
      "{'java', 'ios', 'html', 'jquery', 'c#', 'c++', 'android', 'python', 'php', 'javascript'}\n"
     ]
    }
   ],
   "source": [
    "top_tags = []\n",
    "with open(TAGS_FILE_NAME, 'r') as f:\n",
    "    for line in f:\n",
    "        top_tags.append(line.strip())\n",
    "top_tags = set(top_tags)\n",
    "print(top_tags)"
   ]
  },
  {
   "cell_type": "markdown",
   "metadata": {},
   "source": [
    "## 1. Многоклассовая логистическая регрессия\n",
    "\n",
    "Вспомним, как получается логистическая регрессия для двух классов $\\left\\{0, 1\\right\\}$, вероятность принадлежности объекта к классу $1$ выписывается по теореме Байеса:\n",
    "\n",
    "$$\\large \\begin{array}{rcl}\n",
    "p\\left(c = 1 \\mid \\textbf{x}\\right) &=& \\dfrac{p\\left(\\textbf{x} \\mid c = 1\\right)p\\left(c = 1\\right)}{p\\left(\\textbf{x} \\mid c = 1\\right)p\\left(c = 1\\right) + p\\left(\\textbf{x} \\mid c = 0\\right)p\\left(c = 0\\right)} \\\\\n",
    "&=& \\dfrac{1}{1 + e^{-a}} = \\sigma\\left(a\\right)\n",
    "\\end{array}$$\n",
    "где:\n",
    "- $\\textbf{x}$ – вектор признаков объекта\n",
    "- $\\sigma$ – обозначение функции логистического сигмоида при скалярном аргументе\n",
    "- $a = \\log \\frac{p\\left(\\textbf{x} \\mid c = 1\\right)p\\left(c = 1\\right)}{p\\left(\\textbf{x} \\mid c = 0\\right)p\\left(c = 0\\right)} = \\sum_{i=0}^M w_i x_i$ – это отношение мы моделируем линейной функцией от признаков объекта и параметров модели\n",
    "\n",
    "Данное выражение легко обобщить до множества из $K$ классов, изменится только знаменатель в формуле Байеса. Запишем вероятность принадлежности объекта к классу $k$:\n",
    "$$\\large \\begin{array}{rcl}\n",
    "p\\left(c = k \\mid \\textbf{x}\\right) &=& \\dfrac{p\\left(\\textbf{x} \\mid c = k\\right)p\\left(c = k\\right)}{\\sum_{i=1}^K p\\left(\\textbf{x} \\mid c = i\\right)p\\left(c = i\\right)} \\\\\n",
    "&=& \\dfrac{e^{z_k}}{\\sum_{i=1}^{K}e^{z_i}} = \\sigma_k\\left(\\textbf{z}\\right)\n",
    "\\end{array}$$\n",
    "где:\n",
    "- $\\sigma_k$ – обозначение функции softmax при векторном аргументе\n",
    "- $z_k = \\log p\\left(\\textbf{x} \\mid c = k\\right)p\\left(c = k\\right) = \\sum_{i=0}^M w_{ki} x_i$ – это выражение моделируется линейной функцией от признаков объекта и параметров модели для класса $k$"
   ]
  },
  {
   "cell_type": "markdown",
   "metadata": {},
   "source": [
    "Для моделирования полного правдоподобия примера мы используем [категориальное распределение](https://en.wikipedia.org/wiki/Categorical_distribution), а лучше его логарифм (для удобства):\n",
    "\n",
    "$$\\large \\begin{array}{rcl}\n",
    "\\mathcal{L} = \\log p\\left({\\textbf{x}, y}\\right) &=& \\log \\prod_{i=1}^K \\sigma_i\\left(\\textbf{z}\\right)^{y_i} \\\\\n",
    "&=& \\sum_{i=1}^K y_i \\log \\sigma_i\\left(\\textbf{z}\\right)\n",
    "\\end{array}$$\n",
    "\n",
    "Получается хорошо знакомая нам функция [cross entropy](https://en.wikipedia.org/wiki/Cross_entropy) (если домножить на $-1$). Правдоподобие нужно максимизировать, а, соответственно, перекрестную энтропию нужно минимизировать. Продифференцировав по параметрам модели, мы _легко_ получим правила обновления весов для градиентного спуска, **проделайте этот вывод, если вы его не делали** (если вы вдруг сдались, то на [этом](https://www.youtube.com/watch?v=-WiR16raQf4) видео есть разбор вывода, понимание этого вам понадобится для дальнейшего выполнения задания; если предпочитаете текст, то и он есть [тут](https://www.ics.uci.edu/~pjsadows/notes.pdf) и [тут](https://eli.thegreenplace.net/2016/the-softmax-function-and-its-derivative/)):\n",
    "\n",
    "$$\\large \\begin{array}{rcl}\n",
    "\\frac{\\partial \\mathcal{L}}{\\partial w_{km}} &=& x_m \\left(y_k - \\sigma_k\\left(\\textbf{z}\\right)\\right)\n",
    "\\end{array}$$\n",
    "\n",
    "В стандартной формулировке получается, что вектор $\\left(\\sigma_1, \\sigma_2, \\ldots, \\sigma_K\\right)$ образует дискретное вероятностное распределение, т.е. $\\sum_{i=1}^K \\sigma_i = 1$. Но в нашей постановке задачи каждый пример может иметь несколько тегов или одновременно принадлежать к нескольким классам. Для этого мы немного изменим модель:\n",
    "- будем считать, что все теги независимы друг от друга, т.е. каждый исход – это логистическая регрессия на два класса (либо есть тег, либо его нет), тогда вероятность наличия тега у примера запишется следующим образом (каждый тег/класс как и в многоклассовой логрегрессии имеет свой набор параметров):\n",
    "$$\\large p\\left(\\text{tag}_k \\mid \\textbf{x}\\right) = \\sigma\\left(z_k\\right) = \\sigma\\left(\\sum_{i=1}^M w_{ki} x^i \\right)$$\n",
    "- наличие каждого тега мы будем моделировать с помощью <a href=\"https://en.wikipedia.org/wiki/Bernoulli_distribution\">распределения Бернулли</a>\n",
    "\n",
    "<font color=\"red\">Вопрос 1.</font> Ваше первое задание –  записать упрощенное выражение логарифма правдоподобия примера с признаками $\\textbf{x}$. Как правило, многие алгоритмы оптимизации имеют интерфейс для минимизации функции, мы последуем этой же традиции и домножим полученное выражение на $-1$, а во второй части выведем формулы для минимизации полученного выражения."
   ]
  },
  {
   "cell_type": "markdown",
   "metadata": {},
   "source": [
    "<font color=\"red\">Варианты ответа:</font>\n",
    "1. $\\large -\\mathcal{L} = -\\sum_{i=1}^M y_i \\log \\sigma\\left(z_i\\right) + \\left(1 - y_i\\right) \\log \\left(1 - \\sigma\\left(z_i\\right)\\right)$\n",
    "2. $\\large -\\mathcal{L} = -\\sum_{i=1}^K y_i \\log \\sigma\\left(z_i\\right) + \\left(1 - y_i\\right) \\log \\left(1 - \\sigma\\left(z_i\\right)\\right)$\n",
    "3. $\\large -\\mathcal{L} = -\\sum_{i=1}^K z_i \\log \\sigma\\left(y_i\\right) + \\left(1 - z_i\\right) \\log \\left(1 - \\sigma\\left(y_i\\right)\\right)$\n",
    "4. $\\large -\\mathcal{L} = -\\sum_{i=1}^M z_i \\log \\sigma\\left(y_i\\right) + \\left(1 - z_i\\right) \\log \\left(1 - \\sigma\\left(y_i\\right)\\right)$"
   ]
  },
  {
   "cell_type": "code",
   "execution_count": 5,
   "metadata": {},
   "outputs": [],
   "source": [
    "# Ответ: 2"
   ]
  },
  {
   "cell_type": "markdown",
   "metadata": {},
   "source": [
    "## 2. Вывод формулы обновления весов\n",
    "\n",
    "<font color=\"red\">Вопрос 2.</font> В качестве второго задания вам предоставляется возможность вывести формулу градиента для $-\\mathcal{L}$. Какой вид она будет иметь?"
   ]
  },
  {
   "cell_type": "markdown",
   "metadata": {
    "collapsed": true
   },
   "source": [
    "<font color=\"red\">Варианты ответа:</font>:\n",
    "1. $\\large -\\frac{\\partial \\mathcal{L}}{\\partial w_{km}} = -x_m \\left(\\sigma\\left(z_k\\right) - y_k\\right)$\n",
    "2. $\\large -\\frac{\\partial \\mathcal{L}}{\\partial w_{km}} = -x_m \\left(y_k - \\sigma\\left(z_k\\right)\\right)$\n",
    "3. $\\large -\\frac{\\partial \\mathcal{L}}{\\partial w_{km}} = \\left(\\sigma\\left(z_k\\right)x_m - y_k\\right)$\n",
    "4. $\\large -\\frac{\\partial \\mathcal{L}}{\\partial w_{km}} = \\left(y_k - \\sigma\\left(z_k\\right)x_m\\right)$"
   ]
  },
  {
   "cell_type": "code",
   "execution_count": 6,
   "metadata": {},
   "outputs": [],
   "source": [
    "# Ответ: 2"
   ]
  },
  {
   "cell_type": "markdown",
   "metadata": {},
   "source": [
    "## 3. Реализация базовой модели\n",
    "\n",
    "Вам предлагается каркас класса модели, разберите его внимательно, обращайте внимание на комментарии. Затем заполните пропуски, запустите полученную модель и ответьте на проверочный вопрос.\n",
    "\n",
    "Как вы могли уже заметить, при обновлении веса $w_{km}$ используется значение признака $x_m$, который равен $0$, если слова с индексом $m$ нет в предложении, и больше нуля, если такое слово есть. В нашем случае, чтобы не пересчитывать [bag-of-words](https://en.wikipedia.org/wiki/Bag-of-words_model) самим или с помощью [sklearn.feature_extraction.text.CountVectorizer](http://scikit-learn.org/stable/modules/generated/sklearn.feature_extraction.text.CountVectorizer.html#sklearn.feature_extraction.text.CountVectorizer), мы будем идти по словам предложения в порядке их следования. Если какое-то слово встречается несколько раз, то мы добавляем его в аккумулятор со своим весом. В итоге получится то же самое, как если сначала посчитать количество одинаковых слов и домножить на соответствующий вес. Соответственно, при вычислении линейной комбинации $z$ весов модели и признаков примера необходимо учитывать только ненулевые признаки объекта.\n",
    "\n",
    "Подсказка:\n",
    "- если реализовывать вычисление сигмоида так же, как в формуле, то при большом отрицательном значении $z$ вычисление $e^{-z}$ превратится в очень большое число, которое вылетит за допустимые пределы\n",
    "- в то же время $e^{-z}$ от большого положительного $z$ будет нулем\n",
    "- воспользуйтесь свойствами функции $\\sigma$ для того, чтобы пофиксить эту ошибку и реализовать $\\sigma$ без риска overflow."
   ]
  },
  {
   "cell_type": "code",
   "execution_count": 7,
   "metadata": {},
   "outputs": [
    {
     "data": {
      "text/html": [
       "<div>\n",
       "<style scoped>\n",
       "    .dataframe tbody tr th:only-of-type {\n",
       "        vertical-align: middle;\n",
       "    }\n",
       "\n",
       "    .dataframe tbody tr th {\n",
       "        vertical-align: top;\n",
       "    }\n",
       "\n",
       "    .dataframe thead th {\n",
       "        text-align: right;\n",
       "    }\n",
       "</style>\n",
       "<table border=\"1\" class=\"dataframe\">\n",
       "  <thead>\n",
       "    <tr style=\"text-align: right;\">\n",
       "      <th></th>\n",
       "      <th>0</th>\n",
       "      <th>1</th>\n",
       "    </tr>\n",
       "  </thead>\n",
       "  <tbody>\n",
       "    <tr>\n",
       "      <th>0</th>\n",
       "      <td>i ve got some code in window scroll that check...</td>\n",
       "      <td>javascript jquery</td>\n",
       "    </tr>\n",
       "    <tr>\n",
       "      <th>1</th>\n",
       "      <td>i have a custom adapter for a list view it has...</td>\n",
       "      <td>android</td>\n",
       "    </tr>\n",
       "    <tr>\n",
       "      <th>2</th>\n",
       "      <td>in my form panel i added a checkbox setting st...</td>\n",
       "      <td>javascript</td>\n",
       "    </tr>\n",
       "    <tr>\n",
       "      <th>3</th>\n",
       "      <td>i have the two dates variables startwork and e...</td>\n",
       "      <td>c#</td>\n",
       "    </tr>\n",
       "    <tr>\n",
       "      <th>4</th>\n",
       "      <td>i might have been using the wrong search tags ...</td>\n",
       "      <td>android</td>\n",
       "    </tr>\n",
       "  </tbody>\n",
       "</table>\n",
       "</div>"
      ],
      "text/plain": [
       "                                                   0                  1\n",
       "0  i ve got some code in window scroll that check...  javascript jquery\n",
       "1  i have a custom adapter for a list view it has...            android\n",
       "2  in my form panel i added a checkbox setting st...         javascript\n",
       "3  i have the two dates variables startwork and e...                 c#\n",
       "4  i might have been using the wrong search tags ...            android"
      ]
     },
     "execution_count": 7,
     "metadata": {},
     "output_type": "execute_result"
    }
   ],
   "source": [
    "df = pd.read_csv(DS_FILE_NAME, header=None, sep=\"\\t\")\n",
    "df.head()"
   ]
  },
  {
   "cell_type": "code",
   "execution_count": 8,
   "metadata": {},
   "outputs": [],
   "source": [
    "class BaseLogRegressor:\n",
    "    \"\"\"Конструктор\n",
    "    \n",
    "    Параметры\n",
    "    ----------\n",
    "    tags : list of string, default=top_tags\n",
    "        список тегов\n",
    "    \"\"\"\n",
    "    def __init__(self, tags=top_tags):      \n",
    "        # словарь который содержит мапинг слов предложений и тегов в индексы (для экономии памяти)\n",
    "        # пример: self._vocab['exception'] = 17 означает что у слова exception индекс равен 17\n",
    "        self._vocab = {}\n",
    "        \n",
    "        # параметры модели: веса\n",
    "        # для каждого класса/тега нам необходимо хранить собственный вектор весов\n",
    "        # по умолчанию у нас все веса будут равны нулю\n",
    "        # мы заранее не знаем сколько весов нам понадобится\n",
    "        # поэтому для каждого класса мы сосздаем словарь изменяемого размера со значением по умолчанию 0\n",
    "        # пример: self._w['java'][self._vocab['exception']]  содержит вес для слова exception тега java\n",
    "        self._w = dict([(t, defaultdict(int)) for t in tags])\n",
    "        \n",
    "        # параметры модели: смещения или вес w_0\n",
    "        self._b = dict([(t, 0) for t in tags])\n",
    "        \n",
    "        self._tags = set(tags)"
   ]
  },
  {
   "cell_type": "code",
   "execution_count": 9,
   "metadata": {},
   "outputs": [],
   "source": [
    "class LogRegressor(BaseLogRegressor):        \n",
    "    \"\"\"Один прогон по датасету\n",
    "    \n",
    "    Параметры\n",
    "    ----------\n",
    "    df : pandas.DataFrame\n",
    "        \n",
    "    top_n_train : int\n",
    "        первые top_n_train строк будут использоваться для обучения, остальные для тестирования\n",
    "\n",
    "    total : int, default=125000\n",
    "        информация о количестве строк в файле для вывода прогресс бара\n",
    "\n",
    "    learning_rate : float, default=0.1\n",
    "        скорость обучения для градиентного спуска\n",
    "        \n",
    "    tolerance : float, default=1e-16\n",
    "        используем для ограничения значений аргумента логарифмов\n",
    "    \"\"\"\n",
    "    def iterate_df(self, df, top_n_train=100000, total=None, learning_rate=0.1, tolerance=1e-16):\n",
    "        \n",
    "        self._loss = []\n",
    "        n = 0\n",
    "        z_min = -np.log(1.0 / tolerance - 1.0)\n",
    "        z_max = -z_min\n",
    "        \n",
    "        indices = df.index if total is None else df.index[:total]\n",
    "        for index in tqdm_notebook(indices, mininterval=1):            \n",
    "            sentence, tags = df.loc[index].values        \n",
    "            # слова вопроса, это как раз признаки x\n",
    "            sentence = sentence.split(' ')\n",
    "            # теги вопроса, это y\n",
    "            tags = set(tags.split(' '))\n",
    "                \n",
    "            # значение функции потерь для текущего примера\n",
    "            sample_loss = 0\n",
    "\n",
    "            # прокидываем градиенты для каждого тега\n",
    "            for tag in self._tags:\n",
    "                # целевая переменная равна 1 если текущий тег есть у текущего примера\n",
    "                y = int(tag in tags)\n",
    "\n",
    "                # расчитываем значение линейной комбинации весов и признаков объекта\n",
    "                # инициализируем z\n",
    "                z = self._compute_z(sentence, tag, is_train=(n<top_n_train), z_min=z_min, z_max=z_max)\n",
    "\n",
    "                # вычисляем вероятность наличия тега\n",
    "                log_sigma = -np.logaddexp(0.0, -z)\n",
    "                log_1_sigma = -np.logaddexp(0.0, z)\n",
    "                sigma = np.exp(log_sigma)\n",
    "\n",
    "                # обновляем значение функции потерь для текущего примера\n",
    "                sample_loss += -(y * log_sigma + (1 - y) * log_1_sigma)\n",
    "\n",
    "                # если мы все еще в тренировочной части, то обновим параметры\n",
    "                if n < top_n_train:\n",
    "                    # вычисляем производную логарифмического правдоподобия по весу\n",
    "                    dLdw = y - sigma\n",
    "\n",
    "                    # делаем градиентный шаг\n",
    "                    # мы минимизируем отрицательное логарифмическое правдоподобие (второй знак минус)\n",
    "                    # поэтому мы идем в обратную сторону градиента для минимизации (первый знак минус)\n",
    "                    for word in sentence:                        \n",
    "                        self._w[tag][self._vocab[word]] -= -learning_rate*dLdw\n",
    "                    self._b[tag] -= -learning_rate*dLdw\n",
    "\n",
    "            n += 1\n",
    "\n",
    "            self._loss.append(sample_loss)\n",
    "            \n",
    "    def _compute_z(self, sentence, tag, is_train=True, z_min=-1e16, z_max=1e16):\n",
    "        z = self._b[tag]\n",
    "        for word in sentence:\n",
    "            # если в режиме тестирования появляется слово которого нет в словаре, то мы его игнорируем\n",
    "            if (not is_train) and word not in self._vocab:\n",
    "                continue\n",
    "            if word not in self._vocab:\n",
    "                self._vocab[word] = len(self._vocab)\n",
    "            z += self._w[tag][self._vocab[word]]\n",
    "        z = np.clip(z, z_min, z_max)\n",
    "        return z\n",
    "    "
   ]
  },
  {
   "cell_type": "code",
   "execution_count": 10,
   "metadata": {},
   "outputs": [
    {
     "data": {
      "application/vnd.jupyter.widget-view+json": {
       "model_id": "c92ba67650d04448a3cdb764f2195b14",
       "version_major": 2,
       "version_minor": 0
      },
      "text/html": [
       "<p>Failed to display Jupyter Widget of type <code>HBox</code>.</p>\n",
       "<p>\n",
       "  If you're reading this message in the Jupyter Notebook or JupyterLab Notebook, it may mean\n",
       "  that the widgets JavaScript is still loading. If this message persists, it\n",
       "  likely means that the widgets JavaScript library is either not installed or\n",
       "  not enabled. See the <a href=\"https://ipywidgets.readthedocs.io/en/stable/user_install.html\">Jupyter\n",
       "  Widgets Documentation</a> for setup instructions.\n",
       "</p>\n",
       "<p>\n",
       "  If you're reading this message in another frontend (for example, a static\n",
       "  rendering on GitHub or <a href=\"https://nbviewer.jupyter.org/\">NBViewer</a>),\n",
       "  it may mean that your frontend doesn't currently support widgets.\n",
       "</p>\n"
      ],
      "text/plain": [
       "HBox(children=(IntProgress(value=0, max=125000), HTML(value='')))"
      ]
     },
     "metadata": {},
     "output_type": "display_data"
    },
    {
     "name": "stdout",
     "output_type": "stream",
     "text": [
      "\n"
     ]
    }
   ],
   "source": [
    "# создадим эксемпляр модели и пройдемся по датасету\n",
    "model = LogRegressor()\n",
    "model.iterate_df(df)"
   ]
  },
  {
   "cell_type": "markdown",
   "metadata": {},
   "source": [
    "Проверим, действительно ли значение отрицательного логарифмического правдоподобия уменьшалось. Так как мы используем стохастический градентный спуск, не стоит ожидать плавного падения функции ошибки. Мы воспользуемся скользящим средним с окном в 10 тысяч примеров, чтобы хоть как-то сгладить график."
   ]
  },
  {
   "cell_type": "code",
   "execution_count": 57,
   "metadata": {},
   "outputs": [
    {
     "data": {
      "image/png": "[encoded data removed]",
      "text/plain": [
       "<matplotlib.figure.Figure at 0x7f29cc4fe2b0>"
      ]
     },
     "metadata": {},
     "output_type": "display_data"
    }
   ],
   "source": [
    "plt.plot(pd.Series(model._loss[:-25000]).rolling(10000).mean());"
   ]
  },
  {
   "cell_type": "code",
   "execution_count": 58,
   "metadata": {},
   "outputs": [
    {
     "name": "stdout",
     "output_type": "stream",
     "text": [
      "Mean of the loss function on the last 10k train samples: 20.20\n"
     ]
    }
   ],
   "source": [
    "print('Mean of the loss function on the last 10k train samples: %0.2f' % np.mean(model._loss[-35000:-25000]))"
   ]
  },
  {
   "cell_type": "markdown",
   "metadata": {},
   "source": [
    "<font color=\"red\">Вопрос 3.</font>\n",
    "Вычислите среднее значение функции стоимости на последних 10 000 примеров тренировочного набора, к какому из значений ваш ответ ближе всего?\n",
    "\n",
    "<font color=\"red\">Варианты ответа:</font>\n",
    "1. 17.54\n",
    "2. 18.64\n",
    "3. 19.74\n",
    "4. 20.84"
   ]
  },
  {
   "cell_type": "code",
   "execution_count": 54,
   "metadata": {},
   "outputs": [],
   "source": [
    "# Ответ: 3"
   ]
  },
  {
   "cell_type": "markdown",
   "metadata": {
    "collapsed": true
   },
   "source": [
    "## 4. Тестирование модели\n",
    "\n",
    "В базовой модели первые 100 000 строк используются для обучения, а оставшиеся – для тестирования. Как вы можете заметить, значение отрицательного логарифмического правдоподобия не очень информативно, хоть и позволяет сравнивать разные модели. В качестве четвертого задания вам необходимо модифицировать базовую модель таким образом, чтобы метод `iterate_file` возвращал значение _точности_ на тестовой части набора данных. \n",
    "\n",
    "Точность определим следующим образом:\n",
    "- считаем, что тег у вопроса присутствует, если спрогнозированная вероятность тега больше 0.9\n",
    "- точность одного примера расчитывается как [коэффициент Жаккара](https://ru.wikipedia.org/wiki/Коэффициент_Жаккара) между множеством настоящих тегов и предсказанных моделью\n",
    "  - например, если у примера настоящие теги ['html', 'jquery'], а по версии модели ['ios', 'html', 'java'], то коэффициент Жаккара будет равен |['html', 'jquery'] $\\cap$ ['ios', 'html', 'java']| / |['html', 'jquery'] $\\cup$ ['ios', 'html', 'java']| = |['html']| / |['jquery', 'ios', 'html', 'java']| = 1/4\n",
    "- метод `iterate_file` возвращает **среднюю** точность на тестовом наборе данных"
   ]
  },
  {
   "cell_type": "code",
   "execution_count": 11,
   "metadata": {},
   "outputs": [],
   "source": [
    "def compute_jaccard(true_tags, pred_tags):\n",
    "    true_tags = set(true_tags)\n",
    "    pred_tags = set(pred_tags)\n",
    "    return len(true_tags & pred_tags) * 1.0 / len(true_tags | pred_tags)"
   ]
  },
  {
   "cell_type": "code",
   "execution_count": 12,
   "metadata": {},
   "outputs": [
    {
     "data": {
      "text/plain": [
       "0.25"
      ]
     },
     "execution_count": 12,
     "metadata": {},
     "output_type": "execute_result"
    }
   ],
   "source": [
    "compute_jaccard(['html', 'jquery'], ['ios', 'html', 'java'])"
   ]
  },
  {
   "cell_type": "code",
   "execution_count": 13,
   "metadata": {},
   "outputs": [],
   "source": [
    "# Обновите определение класса LogRegressor\n",
    "class LogRegressor2(LogRegressor):\n",
    "\n",
    "    \"\"\"Один прогон по датасету\n",
    "    \n",
    "    Параметры\n",
    "    ----------\n",
    "    df : pandas.DataFrame\n",
    "        \n",
    "    top_n_train : int\n",
    "        первые top_n_train строк будут использоваться для обучения, остальные для тестирования\n",
    "\n",
    "    total : int, default=125000\n",
    "        информация о количестве строк в файле для вывода прогресс бара\n",
    "\n",
    "    learning_rate : float, default=0.1\n",
    "        скорость обучения для градиентного спуска\n",
    "        \n",
    "    tolerance : float, default=1e-16\n",
    "        используем для ограничения значений аргумента логарифмов\n",
    "    \"\"\"\n",
    "    def iterate_df(self, df, top_n_train=100000, total=None, learning_rate=0.1, tolerance=1e-16):\n",
    "        \n",
    "        self._loss = []\n",
    "        n = 0\n",
    "        z_min = -np.log(1.0 / tolerance - 1.0)\n",
    "        z_max = -z_min        \n",
    "        acc = []\n",
    "        \n",
    "        indices = df.index if total is None else df.index[:total]\n",
    "        for index in tqdm_notebook(indices, mininterval=1):            \n",
    "            sentence, tags = df.loc[index].values        \n",
    "            # слова вопроса, это как раз признаки x\n",
    "            sentence = sentence.split(' ')\n",
    "            # теги вопроса, это y\n",
    "            tags = set(tags.split(' '))\n",
    "                \n",
    "            # значение функции потерь для текущего примера\n",
    "            sample_loss = 0\n",
    "            pred_tags = []\n",
    "            \n",
    "            # прокидываем градиенты для каждого тега\n",
    "            for tag in self._tags:\n",
    "                # целевая переменная равна 1 если текущий тег есть у текущего примера\n",
    "                y = int(tag in tags)\n",
    "\n",
    "                # расчитываем значение линейной комбинации весов и признаков объекта\n",
    "                # инициализируем z\n",
    "                z = self._compute_z(sentence, tag, is_train=(n<top_n_train), z_min=z_min, z_max=z_max)\n",
    "\n",
    "                # вычисляем вероятность наличия тега\n",
    "                log_sigma = -np.logaddexp(0.0, -z)\n",
    "                log_1_sigma = -np.logaddexp(0.0, z)\n",
    "                sigma = np.exp(log_sigma)\n",
    "                \n",
    "                if sigma > 0.9:\n",
    "                    pred_tags.append(tag)\n",
    "\n",
    "                # обновляем значение функции потерь для текущего примера\n",
    "                sample_loss += -(y * log_sigma + (1 - y) * log_1_sigma)\n",
    "\n",
    "                # если мы все еще в тренировочной части, то обновим параметры\n",
    "                if n < top_n_train:\n",
    "                    # вычисляем производную логарифмического правдоподобия по весу\n",
    "                    dLdw = y - sigma\n",
    "\n",
    "                    # делаем градиентный шаг\n",
    "                    # мы минимизируем отрицательное логарифмическое правдоподобие (второй знак минус)\n",
    "                    # поэтому мы идем в обратную сторону градиента для минимизации (первый знак минус)\n",
    "                    for word in sentence:                        \n",
    "                        self._w[tag][self._vocab[word]] -= -learning_rate*dLdw\n",
    "                    self._b[tag] -= -learning_rate*dLdw\n",
    "\n",
    "            if n >= top_n_train:\n",
    "                acc.append(compute_jaccard(tags, pred_tags))\n",
    "                    \n",
    "            n += 1\n",
    "            self._loss.append(sample_loss)\n",
    "            \n",
    "        return np.mean(acc)\n",
    "    \n",
    "    def predict(self, sentence, threshold=0.9, tolerance=1e-16):\n",
    "        pred_tags = []\n",
    "        z_min = -np.log(1.0 / tolerance - 1.0)\n",
    "        z_max = -z_min\n",
    "        for tag in self._tags:\n",
    "            z = self._compute_z(sentence, tag, is_train=False, z_min=z_min, z_max=z_max)\n",
    "            # вычисляем вероятность наличия тега\n",
    "            log_sigma = -np.logaddexp(0.0, -z)\n",
    "            sigma = np.exp(log_sigma)\n",
    "\n",
    "            if sigma > threshold:\n",
    "                pred_tags.append(tag)\n",
    "        return pred_tags"
   ]
  },
  {
   "cell_type": "code",
   "execution_count": 14,
   "metadata": {},
   "outputs": [
    {
     "data": {
      "application/vnd.jupyter.widget-view+json": {
       "model_id": "c6430f82a8184c1f8a2cc6cacc539f81",
       "version_major": 2,
       "version_minor": 0
      },
      "text/html": [
       "<p>Failed to display Jupyter Widget of type <code>HBox</code>.</p>\n",
       "<p>\n",
       "  If you're reading this message in the Jupyter Notebook or JupyterLab Notebook, it may mean\n",
       "  that the widgets JavaScript is still loading. If this message persists, it\n",
       "  likely means that the widgets JavaScript library is either not installed or\n",
       "  not enabled. See the <a href=\"https://ipywidgets.readthedocs.io/en/stable/user_install.html\">Jupyter\n",
       "  Widgets Documentation</a> for setup instructions.\n",
       "</p>\n",
       "<p>\n",
       "  If you're reading this message in another frontend (for example, a static\n",
       "  rendering on GitHub or <a href=\"https://nbviewer.jupyter.org/\">NBViewer</a>),\n",
       "  it may mean that your frontend doesn't currently support widgets.\n",
       "</p>\n"
      ],
      "text/plain": [
       "HBox(children=(IntProgress(value=0, max=20000), HTML(value='')))"
      ]
     },
     "metadata": {},
     "output_type": "display_data"
    },
    {
     "name": "stdout",
     "output_type": "stream",
     "text": [
      "\n",
      "0.48\n"
     ]
    }
   ],
   "source": [
    "model = LogRegressor2()\n",
    "acc = model.iterate_df(df, top_n_train=15000, total=20000)\n",
    "print('%0.2f' % acc)"
   ]
  },
  {
   "cell_type": "code",
   "execution_count": 83,
   "metadata": {},
   "outputs": [
    {
     "data": {
      "application/vnd.jupyter.widget-view+json": {
       "model_id": "9fafe6dc8cea4c30856dbfc8fd6e469c",
       "version_major": 2,
       "version_minor": 0
      },
      "text/html": [
       "<p>Failed to display Jupyter Widget of type <code>HBox</code>.</p>\n",
       "<p>\n",
       "  If you're reading this message in the Jupyter Notebook or JupyterLab Notebook, it may mean\n",
       "  that the widgets JavaScript is still loading. If this message persists, it\n",
       "  likely means that the widgets JavaScript library is either not installed or\n",
       "  not enabled. See the <a href=\"https://ipywidgets.readthedocs.io/en/stable/user_install.html\">Jupyter\n",
       "  Widgets Documentation</a> for setup instructions.\n",
       "</p>\n",
       "<p>\n",
       "  If you're reading this message in another frontend (for example, a static\n",
       "  rendering on GitHub or <a href=\"https://nbviewer.jupyter.org/\">NBViewer</a>),\n",
       "  it may mean that your frontend doesn't currently support widgets.\n",
       "</p>\n"
      ],
      "text/plain": [
       "HBox(children=(IntProgress(value=0, max=125000), HTML(value='')))"
      ]
     },
     "metadata": {},
     "output_type": "display_data"
    },
    {
     "name": "stdout",
     "output_type": "stream",
     "text": [
      "\n",
      "0.59\n"
     ]
    }
   ],
   "source": [
    "model = LogRegressor2()\n",
    "acc = model.iterate_df(df)\n",
    "# выведем полученное значение с точностью до двух знаков\n",
    "print('%0.2f' % acc)"
   ]
  },
  {
   "cell_type": "markdown",
   "metadata": {
    "collapsed": true
   },
   "source": [
    "<font color=\"red\">Вопрос 4.</font> К какому значению ближе всего полученное значение точности?\n",
    "<font color=\"red\">Варианты ответа:</font>\n",
    "1. 0.39\n",
    "2. 0.49\n",
    "3. 0.59\n",
    "4. 0.69"
   ]
  },
  {
   "cell_type": "code",
   "execution_count": 80,
   "metadata": {},
   "outputs": [],
   "source": [
    "# Ответ: 3"
   ]
  },
  {
   "cell_type": "markdown",
   "metadata": {},
   "source": [
    "Проверка на тестовом предложении"
   ]
  },
  {
   "cell_type": "code",
   "execution_count": 15,
   "metadata": {},
   "outputs": [
    {
     "name": "stdout",
     "output_type": "stream",
     "text": [
      "['javascript', 'php', 'html']\n",
      "['this', 'is', 'my', 'functional', 'onclick', 'script', 'in', 'html', 'and', 'it', 'works', 'perfectly', 'lt', 'input', 'type', 'text', 'id', 't', 'name', 't', 'value', '1', 'gt', 'lt', 'a', 'href', 'testar', 'php', 'action', 'onclick', 'window', 'location', 'this', 'href+', 'amp', 'quant', '+document', 'getelementbyid', 't', 'value', 'return', 'false', 'gt', 'click', 'lt', 'a', 'gt', 'what', 'i', 'want', 'to', 'achieve', 'is', 'this', 'echo', 'lt', 'input', 'type', 'text', 'value', '1', 'id', 't', 'name', 'gt', 'lt', 'a', 'href', 'addcarrinho', 'php', 'id_produto', 'registo', 'id', 'amp', 'nome', 'registo', 'nome', 'amp', 'preco', 'registo', 'preco', 'onclick', 'window', 'location', 'this', 'href+', 'amp', 'quant', '+document', 'getelementbyid', 't', 'value', 'return', 'false', 'gt', 'add', 'lt', 'a', 'gt', 'all', 'php', 'works', 'i', 'am', 'receiving', 'php', 'variables', 'on', 'the', 'other', 'page', 'but', 'the', 'onclick', 'javascript', 'is', 'not', 'working', 'im', 'getting', 'a', 'sintaxe', 'error', 'i', 'think', 'its', 'a', 'quotes', 'problem', 'but', 'im', 'not', 'familiarized', 'with', 'javascript', '']\n"
     ]
    },
    {
     "data": {
      "text/plain": [
       "['php']"
      ]
     },
     "execution_count": 15,
     "metadata": {},
     "output_type": "execute_result"
    }
   ],
   "source": [
    "sentence, tags = df.loc[115000]\n",
    "sentence = sentence.split(' ')\n",
    "tags = tags.split(' ')\n",
    "print(tags)\n",
    "print(sentence)\n",
    "model.predict(sentence)"
   ]
  },
  {
   "cell_type": "markdown",
   "metadata": {
    "collapsed": true
   },
   "source": [
    "## 5. $L_2$-регуляризация\n",
    "\n",
    "В качестве пятого задания вам необходимо добавить в класс `LogRegressor` поддержку $L_2$-регуляризации. В методе `iterate_file` должен появиться параметр `lmbda=0.01` со значением по умолчанию. С учетом регуляризации новая функция стоимости примет вид:\n",
    "\n",
    "$$\\large \\begin{array}{rcl}\n",
    "L &=& -\\mathcal{L} + \\frac{\\lambda}{2} R\\left(\\textbf W\\right) \\\\\n",
    "&=& -\\mathcal{L} + \\frac{\\lambda}{2} \\sum_{k=1}^K\\sum_{i=1}^M w_{ki}^2\n",
    "\\end{array}$$\n",
    "\n",
    "Градиент первого члена суммы мы уже вывели, а для второго он имеет вид:\n",
    "\n",
    "$$\\large \\begin{array}{rcl}\n",
    "\\frac{\\partial}{\\partial w_{ki}} \\frac{\\lambda}{2} R\\left(\\textbf W\\right) &=& \\lambda w_{ki}\n",
    "\\end{array}$$\n",
    "\n",
    "Если мы на каждом примере будем делать честное обновление всех весов, то все очень замедлится, ведь нам придется на каждой итерации пробегать по всем словам словаря. В ущерб теоретической корректности мы используем грязный трюк: будем регуляризировать только те слова, которые присутствуют в текущем предложении. Не забывайте, что смещение (bias) не регуляризируется. `sample_loss` тоже должен остаться без изменений.\n",
    "\n",
    "Замечание:\n",
    "- не забудьте, что нужно учитывать регуляризацию слова в градиентном шаге только один раз\n",
    "- условимся, что учитываем регуляризацию только при первой встрече слова\n",
    "- если бы мы считали сначала bag-of-words, то мы бы в цикле шли по уникальным словам, но т.к. мы этого не делаем, приходится выкручиваться (еще одна жертва богу online-моделей)"
   ]
  },
  {
   "cell_type": "code",
   "execution_count": 28,
   "metadata": {},
   "outputs": [],
   "source": [
    "# Обновите определение класса LogRegressor\n",
    "class LogRegressorL2(LogRegressor2):\n",
    "\n",
    "    \"\"\"Один прогон по датасету\n",
    "    \n",
    "    Параметры\n",
    "    ----------\n",
    "    df : pandas.DataFrame\n",
    "        \n",
    "    top_n_train : int\n",
    "        первые top_n_train строк будут использоваться для обучения, остальные для тестирования\n",
    "\n",
    "    total : int, default=125000\n",
    "        информация о количестве строк в файле для вывода прогресс бара\n",
    "\n",
    "    learning_rate : float, default=0.1\n",
    "        скорость обучения для градиентного спуска\n",
    "        \n",
    "    tolerance : float, default=1e-16\n",
    "        используем для ограничения значений аргумента логарифмов\n",
    "    \"\"\"\n",
    "    def iterate_df(self, df, top_n_train=100000, total=None, \n",
    "                   learning_rate=0.1, tolerance=1e-16, lmbda=0.01):\n",
    "        \n",
    "        self._loss = []\n",
    "        n = 0\n",
    "        z_min = -np.log(1.0 / tolerance - 1.0)\n",
    "        z_max = -z_min        \n",
    "        acc = []\n",
    "        \n",
    "        indices = df.index if total is None else df.index[:total]\n",
    "        for index in tqdm_notebook(indices, mininterval=1):            \n",
    "            sentence, tags = df.loc[index].values        \n",
    "            # слова вопроса, это как раз признаки x\n",
    "            sentence = sentence.split(' ')\n",
    "            # теги вопроса, это y\n",
    "            tags = set(tags.split(' '))\n",
    "                \n",
    "            # значение функции потерь для текущего примера\n",
    "            sample_loss = 0\n",
    "            pred_tags = []\n",
    "            \n",
    "            # прокидываем градиенты для каждого тега\n",
    "            for tag in self._tags:\n",
    "                # целевая переменная равна 1 если текущий тег есть у текущего примера\n",
    "                y = int(tag in tags)\n",
    "\n",
    "                # расчитываем значение линейной комбинации весов и признаков объекта\n",
    "                # инициализируем z\n",
    "                z = self._compute_z(sentence, tag, is_train=(n<top_n_train), z_min=z_min, z_max=z_max)\n",
    "\n",
    "                # вычисляем вероятность наличия тега\n",
    "                log_sigma = -np.logaddexp(0.0, -z)\n",
    "                log_1_sigma = -np.logaddexp(0.0, z)\n",
    "                sigma = np.exp(log_sigma)\n",
    "                \n",
    "                if sigma > 0.9:\n",
    "                    pred_tags.append(tag)\n",
    "\n",
    "                # обновляем значение функции потерь для текущего примера\n",
    "                sample_loss += -(y * log_sigma + (1 - y) * log_1_sigma)\n",
    "\n",
    "                # если мы все еще в тренировочной части, то обновим параметры\n",
    "                if n < top_n_train:\n",
    "                    # вычисляем производную логарифмического правдоподобия по весу\n",
    "                    dLdw = y - sigma\n",
    "                    # делаем градиентный шаг\n",
    "                    # мы минимизируем отрицательное логарифмическое правдоподобие (второй знак минус)\n",
    "                    # поэтому мы идем в обратную сторону градиента для минимизации (первый знак минус)\n",
    "                    w = self._w[tag]\n",
    "                    for word in set(sentence):\n",
    "                        w_index = self._vocab[word]\n",
    "                        w[w_index] -= lmbda * w[w_index]\n",
    "                        \n",
    "                    for word in sentence:\n",
    "                        w_index = self._vocab[word]\n",
    "                        w[w_index] -= -learning_rate*dLdw\n",
    "                    self._b[tag] -= -learning_rate*dLdw\n",
    "\n",
    "            if n >= top_n_train:\n",
    "                acc.append(compute_jaccard(tags, pred_tags))\n",
    "                    \n",
    "            n += 1\n",
    "            self._loss.append(sample_loss)\n",
    "            \n",
    "        return np.mean(acc)\n",
    "    \n",
    "    def predict(self, sentence, threshold=0.9, tolerance=1e-16):\n",
    "        pred_tags = []\n",
    "        z_min = -np.log(1.0 / tolerance - 1.0)\n",
    "        z_max = -z_min\n",
    "        for tag in self._tags:\n",
    "            z = self._compute_z(sentence, tag, is_train=False, z_min=z_min, z_max=z_max)\n",
    "            # вычисляем вероятность наличия тега\n",
    "            log_sigma = -np.logaddexp(0.0, -z)\n",
    "            sigma = np.exp(log_sigma)\n",
    "\n",
    "            if sigma > threshold:\n",
    "                pred_tags.append(tag)\n",
    "        return pred_tags"
   ]
  },
  {
   "cell_type": "code",
   "execution_count": 32,
   "metadata": {},
   "outputs": [
    {
     "data": {
      "application/vnd.jupyter.widget-view+json": {
       "model_id": "a90fecce96364e2698cef3d2220653bb",
       "version_major": 2,
       "version_minor": 0
      },
      "text/html": [
       "<p>Failed to display Jupyter Widget of type <code>HBox</code>.</p>\n",
       "<p>\n",
       "  If you're reading this message in the Jupyter Notebook or JupyterLab Notebook, it may mean\n",
       "  that the widgets JavaScript is still loading. If this message persists, it\n",
       "  likely means that the widgets JavaScript library is either not installed or\n",
       "  not enabled. See the <a href=\"https://ipywidgets.readthedocs.io/en/stable/user_install.html\">Jupyter\n",
       "  Widgets Documentation</a> for setup instructions.\n",
       "</p>\n",
       "<p>\n",
       "  If you're reading this message in another frontend (for example, a static\n",
       "  rendering on GitHub or <a href=\"https://nbviewer.jupyter.org/\">NBViewer</a>),\n",
       "  it may mean that your frontend doesn't currently support widgets.\n",
       "</p>\n"
      ],
      "text/plain": [
       "HBox(children=(IntProgress(value=0, max=20000), HTML(value='')))"
      ]
     },
     "metadata": {},
     "output_type": "display_data"
    },
    {
     "name": "stdout",
     "output_type": "stream",
     "text": [
      "\n",
      "0.37\n"
     ]
    }
   ],
   "source": [
    "model = LogRegressorL2()\n",
    "acc = model.iterate_df(df, top_n_train=15000, total=20000)\n",
    "print('%0.2f' % acc)"
   ]
  },
  {
   "cell_type": "code",
   "execution_count": 27,
   "metadata": {},
   "outputs": [
    {
     "data": {
      "application/vnd.jupyter.widget-view+json": {
       "model_id": "9bfd6859dfa44a60b3457bd6c7d92dc8",
       "version_major": 2,
       "version_minor": 0
      },
      "text/html": [
       "<p>Failed to display Jupyter Widget of type <code>HBox</code>.</p>\n",
       "<p>\n",
       "  If you're reading this message in the Jupyter Notebook or JupyterLab Notebook, it may mean\n",
       "  that the widgets JavaScript is still loading. If this message persists, it\n",
       "  likely means that the widgets JavaScript library is either not installed or\n",
       "  not enabled. See the <a href=\"https://ipywidgets.readthedocs.io/en/stable/user_install.html\">Jupyter\n",
       "  Widgets Documentation</a> for setup instructions.\n",
       "</p>\n",
       "<p>\n",
       "  If you're reading this message in another frontend (for example, a static\n",
       "  rendering on GitHub or <a href=\"https://nbviewer.jupyter.org/\">NBViewer</a>),\n",
       "  it may mean that your frontend doesn't currently support widgets.\n",
       "</p>\n"
      ],
      "text/plain": [
       "HBox(children=(IntProgress(value=0, max=125000), HTML(value='')))"
      ]
     },
     "metadata": {},
     "output_type": "display_data"
    },
    {
     "name": "stdout",
     "output_type": "stream",
     "text": [
      "\n",
      "0.45\n"
     ]
    },
    {
     "data": {
      "image/png": "[encoded data removed]",
      "text/plain": [
       "<matplotlib.figure.Figure at 0x7f64b4d00eb8>"
      ]
     },
     "metadata": {},
     "output_type": "display_data"
    }
   ],
   "source": [
    "model = LogRegressorL2()\n",
    "acc = model.iterate_df(df)\n",
    "print('%0.2f' % acc)\n",
    "plt.plot(pd.Series(model._loss[:-25000]).rolling(10000).mean());"
   ]
  },
  {
   "cell_type": "markdown",
   "metadata": {},
   "source": [
    "<font color=\"red\">Вопрос 5.</font> К какому значению ближе всего полученное значение точности?\n",
    "<font color=\"red\">Варианты ответа:</font>\n",
    "1. 0.3\n",
    "2. 0.35\n",
    "3. 0.4\n",
    "4. 0.52"
   ]
  },
  {
   "cell_type": "code",
   "execution_count": 91,
   "metadata": {},
   "outputs": [],
   "source": [
    "# Ответ: 3"
   ]
  },
  {
   "cell_type": "code",
   "execution_count": 26,
   "metadata": {},
   "outputs": [
    {
     "name": "stdout",
     "output_type": "stream",
     "text": [
      "['javascript', 'php', 'html']\n",
      "['this', 'is', 'my', 'functional', 'onclick', 'script', 'in', 'html', 'and', 'it', 'works', 'perfectly', 'lt', 'input', 'type', 'text', 'id', 't', 'name', 't', 'value', '1', 'gt', 'lt', 'a', 'href', 'testar', 'php', 'action', 'onclick', 'window', 'location', 'this', 'href+', 'amp', 'quant', '+document', 'getelementbyid', 't', 'value', 'return', 'false', 'gt', 'click', 'lt', 'a', 'gt', 'what', 'i', 'want', 'to', 'achieve', 'is', 'this', 'echo', 'lt', 'input', 'type', 'text', 'value', '1', 'id', 't', 'name', 'gt', 'lt', 'a', 'href', 'addcarrinho', 'php', 'id_produto', 'registo', 'id', 'amp', 'nome', 'registo', 'nome', 'amp', 'preco', 'registo', 'preco', 'onclick', 'window', 'location', 'this', 'href+', 'amp', 'quant', '+document', 'getelementbyid', 't', 'value', 'return', 'false', 'gt', 'add', 'lt', 'a', 'gt', 'all', 'php', 'works', 'i', 'am', 'receiving', 'php', 'variables', 'on', 'the', 'other', 'page', 'but', 'the', 'onclick', 'javascript', 'is', 'not', 'working', 'im', 'getting', 'a', 'sintaxe', 'error', 'i', 'think', 'its', 'a', 'quotes', 'problem', 'but', 'im', 'not', 'familiarized', 'with', 'javascript', '']\n"
     ]
    },
    {
     "data": {
      "text/plain": [
       "['php', 'javascript']"
      ]
     },
     "execution_count": 26,
     "metadata": {},
     "output_type": "execute_result"
    }
   ],
   "source": [
    "sentence, tags = df.loc[115000]\n",
    "sentence = sentence.split(' ')\n",
    "tags = tags.split(' ')\n",
    "print(tags)\n",
    "print(sentence)\n",
    "model.predict(sentence)"
   ]
  },
  {
   "cell_type": "markdown",
   "metadata": {},
   "source": [
    "## 6. ElasticNet регуляризация, вывод\n",
    "Помимо $L_2$ регуляризации, часто используется $L_1$ регуляризация.\n",
    "\n",
    "$$\\large \\begin{array}{rcl}\n",
    "L &=& -\\mathcal{L} + \\frac{\\lambda}{2} R\\left(\\textbf W\\right) \\\\\n",
    "&=& -\\mathcal{L} + \\lambda \\sum_{k=1}^K\\sum_{i=1}^M \\left|w_{ki}\\right|\n",
    "\\end{array}$$\n",
    "\n",
    "Если линейно объединить $L_1$ и $L_2$ регуляризацию, то полученный тип регуляризации называется ElasticNet:\n",
    "\n",
    "$$\\large \\begin{array}{rcl}\n",
    "L &=& -\\mathcal{L} + \\lambda R\\left(\\textbf W\\right) \\\\\n",
    "&=& -\\mathcal{L} + \\lambda \\left(\\gamma \\sum_{k=1}^K\\sum_{i=1}^M w_{ki}^2 + \\left(1 - \\gamma\\right) \\sum_{k=1}^K\\sum_{i=1}^M \\left|w_{ki}\\right| \\right)\n",
    "\\end{array}$$\n",
    "- где $\\gamma \\in \\left[0, 1\\right]$\n",
    "\n",
    "В качестве шестого вопроса вам предлагается вывести формулу градиента ElasticNet регуляризации (не учитывая $-\\mathcal{L}$). \n",
    "\n",
    "<font color=\"red\">Варианты ответа:</font>:\n",
    "1. $\\large \\frac{\\partial}{\\partial w_{ki}} \\lambda R\\left(\\textbf W\\right) = \\lambda \\left(2 \\gamma w_{ki} + \\left(1 - \\gamma\\right) w_{ki}\\right)$ \n",
    "2. $\\large \\frac{\\partial}{\\partial w_{ki}} \\lambda R\\left(\\textbf W\\right) = \\lambda \\left(2 \\gamma \\left|w_{ki}\\right| + \\left(1 - \\gamma\\right) \\text{sign}\\left(w_{ki}\\right)\\right)$\n",
    "3. $\\large \\frac{\\partial}{\\partial w_{ki}} \\lambda R\\left(\\textbf W\\right) = \\lambda \\left(2 \\gamma w_{ki} + \\left(1 - \\gamma\\right) \\text{sign}\\left(w_{ki}\\right)\\right)$\n",
    "4. $\\large \\frac{\\partial}{\\partial w_{ki}} \\lambda R\\left(\\textbf W\\right) = \\lambda \\left(\\gamma w_{ki} + \\left(1 - \\gamma\\right) \\text{sign}\\left(w_{ki}\\right)\\right)$"
   ]
  },
  {
   "cell_type": "code",
   "execution_count": 20,
   "metadata": {},
   "outputs": [],
   "source": [
    "# Ответ: 3"
   ]
  },
  {
   "cell_type": "code",
   "execution_count": null,
   "metadata": {},
   "outputs": [],
   "source": []
  },
  {
   "cell_type": "markdown",
   "metadata": {},
   "source": [
    "## 7. Регуляризация ElasticNet , реализация\n",
    "\n",
    "В качестве седьмой задачи вам предлается изменить класс `LogRegressor` таким образом, чтобы метод `iterate_file` принимал два параметра со значениями по умолчанию `lmbda=0.0002` и `gamma=0.1`. Сделайте один проход по датасету с включенной `ElasticNet`-регуляризацией и заданными значениями по умолчанию и ответьте на вопрос."
   ]
  },
  {
   "cell_type": "code",
   "execution_count": 37,
   "metadata": {},
   "outputs": [],
   "source": [
    "# Обновите определение класса LogRegressor\n",
    "class ElasticNetLogRegressor(LogRegressor2):\n",
    "\n",
    "    \"\"\"Один прогон по датасету\n",
    "    \n",
    "    Параметры\n",
    "    ----------\n",
    "    df : pandas.DataFrame\n",
    "        \n",
    "    top_n_train : int\n",
    "        первые top_n_train строк будут использоваться для обучения, остальные для тестирования\n",
    "\n",
    "    total : int, default=125000\n",
    "        информация о количестве строк в файле для вывода прогресс бара\n",
    "\n",
    "    learning_rate : float, default=0.1\n",
    "        скорость обучения для градиентного спуска\n",
    "        \n",
    "    tolerance : float, default=1e-16\n",
    "        используем для ограничения значений аргумента логарифмов\n",
    "    \"\"\"\n",
    "    def iterate_df(self, df, top_n_train=100000, total=None, \n",
    "                   learning_rate=0.1, tolerance=1e-16, \n",
    "                   lmbda=0.0002, gamma=0.1):\n",
    "        \n",
    "        self._loss = []\n",
    "        n = 0\n",
    "        z_min = -np.log(1.0 / tolerance - 1.0)\n",
    "        z_max = -z_min        \n",
    "        acc = []\n",
    "        \n",
    "        indices = df.index if total is None else df.index[:total]\n",
    "        for index in tqdm_notebook(indices, mininterval=1):            \n",
    "            sentence, tags = df.loc[index].values        \n",
    "            # слова вопроса, это как раз признаки x\n",
    "            sentence = sentence.split(' ')\n",
    "            # теги вопроса, это y\n",
    "            tags = set(tags.split(' '))\n",
    "                \n",
    "            # значение функции потерь для текущего примера\n",
    "            sample_loss = 0\n",
    "            pred_tags = []\n",
    "            \n",
    "            # прокидываем градиенты для каждого тега\n",
    "            for tag in self._tags:\n",
    "                # целевая переменная равна 1 если текущий тег есть у текущего примера\n",
    "                y = int(tag in tags)\n",
    "\n",
    "                # расчитываем значение линейной комбинации весов и признаков объекта\n",
    "                # инициализируем z\n",
    "                z = self._compute_z(sentence, tag, is_train=(n<top_n_train), z_min=z_min, z_max=z_max)\n",
    "\n",
    "                # вычисляем вероятность наличия тега\n",
    "                log_sigma = -np.logaddexp(0.0, -z)\n",
    "                log_1_sigma = -np.logaddexp(0.0, z)\n",
    "                sigma = np.exp(log_sigma)\n",
    "                \n",
    "                if sigma > 0.9:\n",
    "                    pred_tags.append(tag)\n",
    "\n",
    "                # обновляем значение функции потерь для текущего примера\n",
    "                sample_loss += -(y * log_sigma + (1 - y) * log_1_sigma)\n",
    "\n",
    "                # если мы все еще в тренировочной части, то обновим параметры\n",
    "                if n < top_n_train:\n",
    "                    # вычисляем производную логарифмического правдоподобия по весу\n",
    "                    dLdw = y - sigma\n",
    "                    # делаем градиентный шаг\n",
    "                    # мы минимизируем отрицательное логарифмическое правдоподобие (второй знак минус)\n",
    "                    # поэтому мы идем в обратную сторону градиента для минимизации (первый знак минус)\n",
    "                    w = self._w[tag]\n",
    "                    for word in set(sentence):\n",
    "                        w_index = self._vocab[word]\n",
    "                        _w = w[w_index]\n",
    "                        _w -= lmbda * ( 2.0 * gamma * _w + (1 - gamma) * np.sign(_w))\n",
    "                        \n",
    "                    for word in sentence:\n",
    "                        w_index = self._vocab[word]\n",
    "                        w[w_index] -= -learning_rate*dLdw\n",
    "                    self._b[tag] -= -learning_rate*dLdw\n",
    "\n",
    "            if n >= top_n_train:\n",
    "                acc.append(compute_jaccard(tags, pred_tags))\n",
    "                    \n",
    "            n += 1\n",
    "            self._loss.append(sample_loss)\n",
    "            \n",
    "        return np.mean(acc)\n",
    "    \n",
    "    def predict(self, sentence, threshold=0.9, tolerance=1e-16):\n",
    "        pred_tags = []\n",
    "        z_min = -np.log(1.0 / tolerance - 1.0)\n",
    "        z_max = -z_min\n",
    "        for tag in self._tags:\n",
    "            z = self._compute_z(sentence, tag, is_train=False, z_min=z_min, z_max=z_max)\n",
    "            # вычисляем вероятность наличия тега\n",
    "            log_sigma = -np.logaddexp(0.0, -z)\n",
    "            sigma = np.exp(log_sigma)\n",
    "\n",
    "            if sigma > threshold:\n",
    "                pred_tags.append(tag)\n",
    "        return pred_tags"
   ]
  },
  {
   "cell_type": "code",
   "execution_count": 38,
   "metadata": {},
   "outputs": [
    {
     "data": {
      "application/vnd.jupyter.widget-view+json": {
       "model_id": "944478a7ddb44c41bc2ead1c88814ad4",
       "version_major": 2,
       "version_minor": 0
      },
      "text/html": [
       "<p>Failed to display Jupyter Widget of type <code>HBox</code>.</p>\n",
       "<p>\n",
       "  If you're reading this message in the Jupyter Notebook or JupyterLab Notebook, it may mean\n",
       "  that the widgets JavaScript is still loading. If this message persists, it\n",
       "  likely means that the widgets JavaScript library is either not installed or\n",
       "  not enabled. See the <a href=\"https://ipywidgets.readthedocs.io/en/stable/user_install.html\">Jupyter\n",
       "  Widgets Documentation</a> for setup instructions.\n",
       "</p>\n",
       "<p>\n",
       "  If you're reading this message in another frontend (for example, a static\n",
       "  rendering on GitHub or <a href=\"https://nbviewer.jupyter.org/\">NBViewer</a>),\n",
       "  it may mean that your frontend doesn't currently support widgets.\n",
       "</p>\n"
      ],
      "text/plain": [
       "HBox(children=(IntProgress(value=0, max=20000), HTML(value='')))"
      ]
     },
     "metadata": {},
     "output_type": "display_data"
    },
    {
     "name": "stdout",
     "output_type": "stream",
     "text": [
      "\n",
      "0.48\n"
     ]
    }
   ],
   "source": [
    "model = ElasticNetLogRegressor()\n",
    "acc = model.iterate_df(df, top_n_train=15000, total=20000)\n",
    "print('%0.2f' % acc)"
   ]
  },
  {
   "cell_type": "code",
   "execution_count": 40,
   "metadata": {},
   "outputs": [
    {
     "data": {
      "application/vnd.jupyter.widget-view+json": {
       "model_id": "20e5cdd53f854065872e3d697f17113b",
       "version_major": 2,
       "version_minor": 0
      },
      "text/html": [
       "<p>Failed to display Jupyter Widget of type <code>HBox</code>.</p>\n",
       "<p>\n",
       "  If you're reading this message in the Jupyter Notebook or JupyterLab Notebook, it may mean\n",
       "  that the widgets JavaScript is still loading. If this message persists, it\n",
       "  likely means that the widgets JavaScript library is either not installed or\n",
       "  not enabled. See the <a href=\"https://ipywidgets.readthedocs.io/en/stable/user_install.html\">Jupyter\n",
       "  Widgets Documentation</a> for setup instructions.\n",
       "</p>\n",
       "<p>\n",
       "  If you're reading this message in another frontend (for example, a static\n",
       "  rendering on GitHub or <a href=\"https://nbviewer.jupyter.org/\">NBViewer</a>),\n",
       "  it may mean that your frontend doesn't currently support widgets.\n",
       "</p>\n"
      ],
      "text/plain": [
       "HBox(children=(IntProgress(value=0, max=125000), HTML(value='')))"
      ]
     },
     "metadata": {},
     "output_type": "display_data"
    },
    {
     "name": "stdout",
     "output_type": "stream",
     "text": [
      "\n",
      "0.59\n"
     ]
    },
    {
     "data": {
      "image/png": "[encoded data removed]",
      "text/plain": [
       "<matplotlib.figure.Figure at 0x7f64aa4c0f60>"
      ]
     },
     "metadata": {},
     "output_type": "display_data"
    }
   ],
   "source": [
    "model = ElasticNetLogRegressor()\n",
    "acc = model.iterate_df(df)\n",
    "print('%0.2f' % acc)\n",
    "plt.plot(pd.Series(model._loss[:-25000]).rolling(10000).mean());"
   ]
  },
  {
   "cell_type": "markdown",
   "metadata": {
    "collapsed": true
   },
   "source": [
    "<font color=\"red\">Вопрос 7.</font> К какому значению ближе всего полученное значение точности:\n",
    "<font color=\"red\">Варианты ответа:</font>\n",
    "1. 0.59\n",
    "2. 0.69\n",
    "3. 0.79\n",
    "4. 0.82"
   ]
  },
  {
   "cell_type": "code",
   "execution_count": null,
   "metadata": {},
   "outputs": [],
   "source": [
    "# Ответ: 1"
   ]
  },
  {
   "cell_type": "code",
   "execution_count": 41,
   "metadata": {},
   "outputs": [
    {
     "name": "stdout",
     "output_type": "stream",
     "text": [
      "['javascript', 'php', 'html']\n",
      "['this', 'is', 'my', 'functional', 'onclick', 'script', 'in', 'html', 'and', 'it', 'works', 'perfectly', 'lt', 'input', 'type', 'text', 'id', 't', 'name', 't', 'value', '1', 'gt', 'lt', 'a', 'href', 'testar', 'php', 'action', 'onclick', 'window', 'location', 'this', 'href+', 'amp', 'quant', '+document', 'getelementbyid', 't', 'value', 'return', 'false', 'gt', 'click', 'lt', 'a', 'gt', 'what', 'i', 'want', 'to', 'achieve', 'is', 'this', 'echo', 'lt', 'input', 'type', 'text', 'value', '1', 'id', 't', 'name', 'gt', 'lt', 'a', 'href', 'addcarrinho', 'php', 'id_produto', 'registo', 'id', 'amp', 'nome', 'registo', 'nome', 'amp', 'preco', 'registo', 'preco', 'onclick', 'window', 'location', 'this', 'href+', 'amp', 'quant', '+document', 'getelementbyid', 't', 'value', 'return', 'false', 'gt', 'add', 'lt', 'a', 'gt', 'all', 'php', 'works', 'i', 'am', 'receiving', 'php', 'variables', 'on', 'the', 'other', 'page', 'but', 'the', 'onclick', 'javascript', 'is', 'not', 'working', 'im', 'getting', 'a', 'sintaxe', 'error', 'i', 'think', 'its', 'a', 'quotes', 'problem', 'but', 'im', 'not', 'familiarized', 'with', 'javascript', '']\n"
     ]
    },
    {
     "data": {
      "text/plain": [
       "['php']"
      ]
     },
     "execution_count": 41,
     "metadata": {},
     "output_type": "execute_result"
    }
   ],
   "source": [
    "sentence, tags = df.loc[115000]\n",
    "sentence = sentence.split(' ')\n",
    "tags = tags.split(' ')\n",
    "print(tags)\n",
    "print(sentence)\n",
    "model.predict(sentence)"
   ]
  },
  {
   "cell_type": "code",
   "execution_count": null,
   "metadata": {},
   "outputs": [],
   "source": []
  },
  {
   "cell_type": "markdown",
   "metadata": {},
   "source": [
    "## 8. Самые важные слова для тега\n",
    "\n",
    "Прелесть линейных моделей в том, что они легко интерпретируемы. Вам предлагается вычислить, какие слова вносят наибольший вклад в вероятность появления каждого из тегов. А затем ответьте на контрольный вопрос."
   ]
  },
  {
   "cell_type": "code",
   "execution_count": 42,
   "metadata": {},
   "outputs": [
    {
     "name": "stdout",
     "output_type": "stream",
     "text": [
      "java : println, servlet, java, hibernate, spring\n",
      "ios : ios, nsstring, dylib, nil, uiview\n",
      "html : html, nav, try, th, li\n",
      "jquery : jquery, ready, ajax, val, td\n",
      "c# : xsl, writeline, binding, textblock, net\n",
      "c++ : avrf, c++, std, cout, boost\n",
      "android : android, activity, arm, imgsrv, 29297\n",
      "python : python, def, py, django, np\n",
      "php : php, echo, _post, x5c, gt\n",
      "javascript : javascript, x20, 3, 125, x30\n"
     ]
    }
   ],
   "source": [
    "model._vocab_inv = dict([(v, k) for (k, v) in model._vocab.items()])\n",
    "\n",
    "for tag in model._tags:\n",
    "    print(tag, ':', ', '.join([model._vocab_inv[k] for (k, v) in \n",
    "                               sorted(model._w[tag].items(), \n",
    "                                      key=lambda t: t[1], \n",
    "                                      reverse=True)[:5]]))    "
   ]
  },
  {
   "cell_type": "markdown",
   "metadata": {},
   "source": [
    "<font color=\"red\">Вопрос 8.</font> Для многих тегов наличие самого тега в предложении является важным сигналом, у многих сам тег является самым сильным сигналом, что не удивительно. Для каких из тегов само название тега не входит в топ-5 самых важных?\n",
    "\n",
    "<font color=\"red\">Варианты ответа:</font>\n",
    "1. c# \n",
    "2. javascript\n",
    "3. jquery\n",
    "4. android"
   ]
  },
  {
   "cell_type": "code",
   "execution_count": null,
   "metadata": {},
   "outputs": [],
   "source": [
    "# Ответ: 1"
   ]
  },
  {
   "cell_type": "code",
   "execution_count": null,
   "metadata": {},
   "outputs": [],
   "source": []
  },
  {
   "cell_type": "markdown",
   "metadata": {
    "collapsed": true
   },
   "source": [
    "## 9. Сокращаем размер словаря\n",
    "Сейчас количество слов в словаре – 519290, если бы это была выборка из 10 миллионов вопросов с сайта StackOverflow, то размер словаря был бы миллионов 10. Регуляризировать модель можно не только изящно математически, но и топорно, например, ограничить размер словаря. Вам предоставляется возможность внести следующие изменения в класс `LogRegressor`:\n",
    "- добавить в метод `iterate_file` еще один аргумент со значением по умолчанию `update_vocab=True`\n",
    "- при `update_vocab=True` разрешать добавлять слова в словарь в режиме обучения\n",
    "- при `update_vocab=False` игнорировать слова не из словаря\n",
    "- добавить в класс метод `filter_vocab(n=10000)`, который оставит в словаре только топ-n самых популярных слов, используя данные из ``train``"
   ]
  },
  {
   "cell_type": "code",
   "execution_count": 74,
   "metadata": {},
   "outputs": [],
   "source": [
    "# Обновите определение класса LogRegressor\n",
    "class FiniteDictLogRegressor(ElasticNetLogRegressor):\n",
    "\n",
    "    def __init__(self, tags=top_tags):\n",
    "        super(FiniteDictLogRegressor, self).__init__(tags)        \n",
    "        self._vocab_counter = defaultdict(int)    \n",
    "    \n",
    "    \"\"\"Один прогон по датасету\n",
    "    \n",
    "    Параметры\n",
    "    ----------\n",
    "    df : pandas.DataFrame\n",
    "        \n",
    "    top_n_train : int\n",
    "        первые top_n_train строк будут использоваться для обучения, остальные для тестирования\n",
    "\n",
    "    total : int, default=125000\n",
    "        информация о количестве строк в файле для вывода прогресс бара\n",
    "\n",
    "    learning_rate : float, default=0.1\n",
    "        скорость обучения для градиентного спуска\n",
    "        \n",
    "    tolerance : float, default=1e-16\n",
    "        используем для ограничения значений аргумента логарифмов\n",
    "    \"\"\"\n",
    "    def iterate_df(self, df, top_n_train=100000, total=None, \n",
    "                   learning_rate=0.1, tolerance=1e-16, \n",
    "                   lmbda=0.0002, gamma=0.1, \n",
    "                   update_vocab=True):\n",
    "        \n",
    "        self._loss = []\n",
    "        n = 0\n",
    "        z_min = -np.log(1.0 / tolerance - 1.0)\n",
    "        z_max = -z_min        \n",
    "        acc = []\n",
    "        \n",
    "        indices = df.index if total is None else df.index[:total]\n",
    "        for index in tqdm_notebook(indices, mininterval=1):            \n",
    "            sentence, tags = df.loc[index].values        \n",
    "            # слова вопроса, это как раз признаки x\n",
    "            sentence = sentence.split(' ')\n",
    "            # теги вопроса, это y\n",
    "            tags = set(tags.split(' '))\n",
    "                \n",
    "            # значение функции потерь для текущего примера\n",
    "            sample_loss = 0\n",
    "            pred_tags = []\n",
    "            \n",
    "            # прокидываем градиенты для каждого тега\n",
    "            for tag in self._tags:\n",
    "                # целевая переменная равна 1 если текущий тег есть у текущего примера\n",
    "                y = int(tag in tags)\n",
    "\n",
    "                # расчитываем значение линейной комбинации весов и признаков объекта\n",
    "                # инициализируем z\n",
    "                z = self._compute_z(sentence, tag, \n",
    "                                    is_train=(n<top_n_train) and update_vocab, \n",
    "                                    z_min=z_min, z_max=z_max)\n",
    "\n",
    "                # вычисляем вероятность наличия тега\n",
    "                log_sigma = -np.logaddexp(0.0, -z)\n",
    "                log_1_sigma = -np.logaddexp(0.0, z)\n",
    "                sigma = np.exp(log_sigma)\n",
    "                \n",
    "                if sigma > 0.9:\n",
    "                    pred_tags.append(tag)\n",
    "\n",
    "                # обновляем значение функции потерь для текущего примера\n",
    "                sample_loss += -(y * log_sigma + (1 - y) * log_1_sigma)\n",
    "\n",
    "                # если мы все еще в тренировочной части, то обновим параметры\n",
    "                if n < top_n_train:\n",
    "                    # вычисляем производную логарифмического правдоподобия по весу\n",
    "                    dLdw = y - sigma\n",
    "                    # делаем градиентный шаг\n",
    "                    # мы минимизируем отрицательное логарифмическое правдоподобие (второй знак минус)\n",
    "                    # поэтому мы идем в обратную сторону градиента для минимизации (первый знак минус)\n",
    "                    w = self._w[tag]\n",
    "                    for word in set(sentence):\n",
    "                        if not (update_vocab or word in self._vocab):\n",
    "                            continue\n",
    "                        w_index = self._vocab[word]\n",
    "                        _w = w[w_index]\n",
    "                        _w -= lmbda * ( 2.0 * gamma * _w + (1 - gamma) * np.sign(_w) )\n",
    "                        \n",
    "                    for word in sentence:\n",
    "                        if not (update_vocab or word in self._vocab):\n",
    "                            continue                        \n",
    "                        self._vocab_counter[word] += 1\n",
    "                        w_index = self._vocab[word]\n",
    "                        w[w_index] -= -learning_rate * dLdw\n",
    "                    self._b[tag] -= -learning_rate * dLdw\n",
    "\n",
    "            if n >= top_n_train:\n",
    "                acc.append(compute_jaccard(tags, pred_tags))\n",
    "                    \n",
    "            n += 1\n",
    "            self._loss.append(sample_loss)\n",
    "            \n",
    "        return np.mean(acc)\n",
    "    \n",
    "    def predict(self, sentence, threshold=0.9, tolerance=1e-16):\n",
    "        pred_tags = []\n",
    "        z_min = -np.log(1.0 / tolerance - 1.0)\n",
    "        z_max = -z_min\n",
    "        for tag in self._tags:\n",
    "            z = self._compute_z(sentence, tag, is_train=False, z_min=z_min, z_max=z_max)\n",
    "            # вычисляем вероятность наличия тега\n",
    "            log_sigma = -np.logaddexp(0.0, -z)\n",
    "            sigma = np.exp(log_sigma)\n",
    "\n",
    "            if sigma > threshold:\n",
    "                pred_tags.append(tag)\n",
    "        return pred_tags\n",
    "    \n",
    "    def filter_vocab(self, n=10000):\n",
    "        sorted_vocab_counter = sorted(model._vocab_counter.items(), key=lambda t: t[1], reverse=True)\n",
    "        sorted_vocab_counter = dict(sorted_vocab_counter[:n])\n",
    "        new_vocab = {}\n",
    "        for k in sorted_vocab_counter:\n",
    "            new_vocab[k] = self._vocab[k]\n",
    "        self._vocab = new_vocab"
   ]
  },
  {
   "cell_type": "code",
   "execution_count": 63,
   "metadata": {},
   "outputs": [
    {
     "data": {
      "application/vnd.jupyter.widget-view+json": {
       "model_id": "23a51db133a542f09c8ed0a93c0cf4b9",
       "version_major": 2,
       "version_minor": 0
      },
      "text/html": [
       "<p>Failed to display Jupyter Widget of type <code>HBox</code>.</p>\n",
       "<p>\n",
       "  If you're reading this message in the Jupyter Notebook or JupyterLab Notebook, it may mean\n",
       "  that the widgets JavaScript is still loading. If this message persists, it\n",
       "  likely means that the widgets JavaScript library is either not installed or\n",
       "  not enabled. See the <a href=\"https://ipywidgets.readthedocs.io/en/stable/user_install.html\">Jupyter\n",
       "  Widgets Documentation</a> for setup instructions.\n",
       "</p>\n",
       "<p>\n",
       "  If you're reading this message in another frontend (for example, a static\n",
       "  rendering on GitHub or <a href=\"https://nbviewer.jupyter.org/\">NBViewer</a>),\n",
       "  it may mean that your frontend doesn't currently support widgets.\n",
       "</p>\n"
      ],
      "text/plain": [
       "HBox(children=(IntProgress(value=0, max=10000), HTML(value='')))"
      ]
     },
     "metadata": {},
     "output_type": "display_data"
    },
    {
     "name": "stdout",
     "output_type": "stream",
     "text": [
      "\n",
      "0.39\n"
     ]
    }
   ],
   "source": [
    "model = FiniteDictLogRegressor()\n",
    "acc = model.iterate_df(df, top_n_train=7500, total=10000, update_vocab=True)\n",
    "print('%0.2f' % acc)"
   ]
  },
  {
   "cell_type": "code",
   "execution_count": 76,
   "metadata": {},
   "outputs": [
    {
     "data": {
      "application/vnd.jupyter.widget-view+json": {
       "model_id": "83c0811879d04e6f8aadd7566902741f",
       "version_major": 2,
       "version_minor": 0
      },
      "text/html": [
       "<p>Failed to display Jupyter Widget of type <code>HBox</code>.</p>\n",
       "<p>\n",
       "  If you're reading this message in the Jupyter Notebook or JupyterLab Notebook, it may mean\n",
       "  that the widgets JavaScript is still loading. If this message persists, it\n",
       "  likely means that the widgets JavaScript library is either not installed or\n",
       "  not enabled. See the <a href=\"https://ipywidgets.readthedocs.io/en/stable/user_install.html\">Jupyter\n",
       "  Widgets Documentation</a> for setup instructions.\n",
       "</p>\n",
       "<p>\n",
       "  If you're reading this message in another frontend (for example, a static\n",
       "  rendering on GitHub or <a href=\"https://nbviewer.jupyter.org/\">NBViewer</a>),\n",
       "  it may mean that your frontend doesn't currently support widgets.\n",
       "</p>\n"
      ],
      "text/plain": [
       "HBox(children=(IntProgress(value=0, max=125000), HTML(value='')))"
      ]
     },
     "metadata": {},
     "output_type": "display_data"
    },
    {
     "name": "stdout",
     "output_type": "stream",
     "text": [
      "\n",
      "0.59\n"
     ]
    },
    {
     "data": {
      "image/png": "[encoded data removed]",
      "text/plain": [
       "<matplotlib.figure.Figure at 0x7f647f5be978>"
      ]
     },
     "metadata": {},
     "output_type": "display_data"
    }
   ],
   "source": [
    "model = FiniteDictLogRegressor()\n",
    "acc = model.iterate_df(df, update_vocab=True)\n",
    "print('%0.2f' % acc)\n",
    "plt.plot(pd.Series(model._loss[:-25000]).rolling(10000).mean());"
   ]
  },
  {
   "cell_type": "code",
   "execution_count": 77,
   "metadata": {},
   "outputs": [],
   "source": [
    "# оставим только топ 10 000 слов\n",
    "model.filter_vocab(n=10000)"
   ]
  },
  {
   "cell_type": "code",
   "execution_count": 78,
   "metadata": {},
   "outputs": [
    {
     "data": {
      "application/vnd.jupyter.widget-view+json": {
       "model_id": "c693de779d2346a5ae0a6a0fc0459d45",
       "version_major": 2,
       "version_minor": 0
      },
      "text/html": [
       "<p>Failed to display Jupyter Widget of type <code>HBox</code>.</p>\n",
       "<p>\n",
       "  If you're reading this message in the Jupyter Notebook or JupyterLab Notebook, it may mean\n",
       "  that the widgets JavaScript is still loading. If this message persists, it\n",
       "  likely means that the widgets JavaScript library is either not installed or\n",
       "  not enabled. See the <a href=\"https://ipywidgets.readthedocs.io/en/stable/user_install.html\">Jupyter\n",
       "  Widgets Documentation</a> for setup instructions.\n",
       "</p>\n",
       "<p>\n",
       "  If you're reading this message in another frontend (for example, a static\n",
       "  rendering on GitHub or <a href=\"https://nbviewer.jupyter.org/\">NBViewer</a>),\n",
       "  it may mean that your frontend doesn't currently support widgets.\n",
       "</p>\n"
      ],
      "text/plain": [
       "HBox(children=(IntProgress(value=0, max=125000), HTML(value='')))"
      ]
     },
     "metadata": {},
     "output_type": "display_data"
    },
    {
     "name": "stdout",
     "output_type": "stream",
     "text": [
      "\n",
      "0.68\n"
     ]
    },
    {
     "data": {
      "image/png": "[encoded data removed]",
      "text/plain": [
       "<matplotlib.figure.Figure at 0x7f64990c0240>"
      ]
     },
     "metadata": {},
     "output_type": "display_data"
    }
   ],
   "source": [
    "# сделаем еще одну итерацию по датасету, уменьшив скорость обучения в 10 раз\n",
    "acc = model.iterate_df(df, update_vocab=False, learning_rate=0.01)\n",
    "print('%0.2f' % acc)\n",
    "plt.plot(pd.Series(model._loss[:-25000]).rolling(10000).mean());"
   ]
  },
  {
   "cell_type": "markdown",
   "metadata": {
    "collapsed": true
   },
   "source": [
    "<font color=\"red\">Вопрос 9.</font> К какому значению ближе всего полученное значение точности:\n",
    "<font color=\"red\">Варианты ответа:</font>\n",
    "1. 0.48\n",
    "2. 0.58\n",
    "3. 0.68\n",
    "4. 0.78"
   ]
  },
  {
   "cell_type": "code",
   "execution_count": null,
   "metadata": {},
   "outputs": [],
   "source": [
    "# Ответ: 3"
   ]
  },
  {
   "cell_type": "code",
   "execution_count": null,
   "metadata": {},
   "outputs": [],
   "source": []
  },
  {
   "cell_type": "markdown",
   "metadata": {},
   "source": [
    "## 10. Прогнозирование тегов для новых вопросов\n",
    "\n",
    "В завершение этого задания вам предлагается реализовать метод `predict_proba`, который принимает строку, содержащую вопрос, а возвращает список предсказанных тегов вопроса с их вероятностями."
   ]
  },
  {
   "cell_type": "code",
   "execution_count": 86,
   "metadata": {},
   "outputs": [],
   "source": [
    "def predict_proba(model, sentence, tolerance=1e-16):\n",
    "    sentence = sentence.split(\" \")\n",
    "    probas_tags = []\n",
    "    z_min = -np.log(1.0 / tolerance - 1.0)\n",
    "    z_max = -z_min\n",
    "    for tag in model._tags:\n",
    "        z = model._compute_z(sentence, tag, is_train=False, z_min=z_min, z_max=z_max)\n",
    "        # вычисляем вероятность наличия тега\n",
    "        log_sigma = -np.logaddexp(0.0, -z)\n",
    "        sigma = np.exp(log_sigma)\n",
    "        probas_tags.append((tag, sigma))\n",
    "    return dict(probas_tags)"
   ]
  },
  {
   "cell_type": "code",
   "execution_count": 87,
   "metadata": {},
   "outputs": [],
   "source": [
    "# model = FinalLogRegressor()\n",
    "# acc = model.iterate_df(df, update_vocab=True)\n",
    "# print('%0.2f' % acc)\n",
    "# model.filter_vocab(n=10000)\n",
    "# acc = model.iterate_df(df, update_vocab=False, learning_rate=0.01)\n",
    "# print('%0.2f' % acc)"
   ]
  },
  {
   "cell_type": "code",
   "execution_count": 88,
   "metadata": {},
   "outputs": [],
   "source": [
    "sentence = (\"I want to improve my coding skills, so I have planned write \" +\n",
    "            \"a Mobile Application.need to choose between Apple's iOS or Google's Android.\" +\n",
    "            \" my background: I have done basic programming in .Net,C/C++,Python and PHP \" +\n",
    "            \"in college, so got OOP concepts covered. about my skill level, I just know \" +\n",
    "            \"concepts and basic syntax. But can't write complex applications, if asked :(\" +\n",
    "            \" So decided to hone my skills, And I wanted to know which is easier to \" +\n",
    "            \"learn for a programming n00b. A) iOS which uses Objective C B) Android \" + \n",
    "            \"which uses Java. I want to decide based on difficulty \" + \n",
    "            \"level\").lower().replace(',', '')"
   ]
  },
  {
   "cell_type": "code",
   "execution_count": 89,
   "metadata": {},
   "outputs": [
    {
     "data": {
      "text/plain": [
       "[('ios', 0.9999999999999999),\n",
       " ('php', 0.9999111530705782),\n",
       " ('android', 0.21934169767166156),\n",
       " ('java', 9.999999999999965e-17),\n",
       " ('javascript', 9.999999999999965e-17),\n",
       " ('python', 9.999999999999965e-17),\n",
       " ('html', 9.999999999999965e-17),\n",
       " ('c#', 9.999999999999965e-17),\n",
       " ('jquery', 9.999999999999965e-17),\n",
       " ('c++', 9.999999999999965e-17)]"
      ]
     },
     "execution_count": 89,
     "metadata": {},
     "output_type": "execute_result"
    }
   ],
   "source": [
    "sorted(predict_proba(model, sentence).items(), \n",
    "       key=lambda t: t[1], reverse=True)"
   ]
  },
  {
   "cell_type": "markdown",
   "metadata": {},
   "source": [
    "<font color=\"red\">Вопрос 10.</font> Отметьте все теги, ассоциирующиеся с данным вопросом, если порог принятия равен $0.9$. То есть считаем, что вопросу надо поставить некоторый тег, если вероятность его появления, предсказанная моделью, больше или равна 0.9. \n",
    "\n",
    "<font color=\"red\">Варианты ответа:</font>\n",
    "1. android\n",
    "2. ios\n",
    "3. php\n",
    "4. java"
   ]
  },
  {
   "cell_type": "code",
   "execution_count": null,
   "metadata": {},
   "outputs": [],
   "source": [
    "# Ответ: 2, 3"
   ]
  }
 ],
 "metadata": {
  "kernelspec": {
   "display_name": "Python 3",
   "language": "python",
   "name": "python3"
  },
  "language_info": {
   "codemirror_mode": {
    "name": "ipython",
    "version": 3
   },
   "file_extension": ".py",
   "mimetype": "text/x-python",
   "name": "python",
   "nbconvert_exporter": "python",
   "pygments_lexer": "ipython3",
   "version": "3.5.2"
  }
 },
 "nbformat": 4,
 "nbformat_minor": 2
}
