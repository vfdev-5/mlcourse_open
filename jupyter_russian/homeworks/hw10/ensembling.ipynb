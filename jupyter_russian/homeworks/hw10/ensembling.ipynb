{
 "cells": [
  {
   "cell_type": "markdown",
   "metadata": {},
   "source": [
    "## Ensembling with https://github.com/MLWave/Kaggle-Ensemble-Guide.git"
   ]
  },
  {
   "cell_type": "code",
   "execution_count": 5,
   "metadata": {},
   "outputs": [
    {
     "name": "stdout",
     "output_type": "stream",
     "text": [
      "Cloning into 'ensemble_guide'...\n",
      "remote: Counting objects: 116, done.\u001b[K\n",
      "remote: Total 116 (delta 0), reused 0 (delta 0), pack-reused 116\u001b[K\n",
      "Receiving objects: 100% (116/116), 23.11 KiB | 0 bytes/s, done.\n",
      "Resolving deltas: 100% (54/54), done.\n",
      "Checking connectivity... done.\n"
     ]
    }
   ],
   "source": [
    "!git clone https://github.com/MLWave/Kaggle-Ensemble-Guide.git ensemble_guide"
   ]
  },
  {
   "cell_type": "code",
   "execution_count": 9,
   "metadata": {},
   "outputs": [
    {
     "name": "stdout",
     "output_type": "stream",
     "text": [
      "Finding correlation between: catboost_15overfeat.csv and catboost_16Boverfeat.csv\n",
      "Column to be measured: dep_delayed_15min\n",
      "Pearson's correlation score: 0.8311433799214156\n",
      "Kendall's correlation score: 0.6367911107021443\n",
      "Spearman's correlation score: 0.8252942207288589\n"
     ]
    }
   ],
   "source": [
    "!python3 ensemble_guide/src/correlations.py catboost_15overfeat.csv catboost_16Boverfeat.csv"
   ]
  },
  {
   "cell_type": "code",
   "execution_count": 13,
   "metadata": {},
   "outputs": [
    {
     "name": "stdout",
     "output_type": "stream",
     "text": [
      "Finding correlation between: catboost_15overfeat.csv and catboost_12overfeat.csv\n",
      "Column to be measured: dep_delayed_15min\n",
      "Pearson's correlation score: 0.8367351731497539\n",
      "Kendall's correlation score: 0.6450975849629083\n",
      "Spearman's correlation score: 0.8328158058167086\n"
     ]
    }
   ],
   "source": [
    "!python3 ensemble_guide/src/correlations.py catboost_15overfeat.csv catboost_12overfeat.csv"
   ]
  },
  {
   "cell_type": "code",
   "execution_count": 13,
   "metadata": {},
   "outputs": [
    {
     "name": "stdout",
     "output_type": "stream",
     "text": [
      "Finding correlation between: catboost_15overfeat.csv and catboost_12overfeat.csv\n",
      "Column to be measured: dep_delayed_15min\n",
      "Pearson's correlation score: 0.8367351731497539\n",
      "Kendall's correlation score: 0.6450975849629083\n",
      "Spearman's correlation score: 0.8328158058167086\n"
     ]
    }
   ],
   "source": [
    "!python3 ensemble_guide/src/correlations.py catboost_15overfeat.csv catboost_12overfeat.csv"
   ]
  },
  {
   "cell_type": "code",
   "execution_count": 12,
   "metadata": {},
   "outputs": [
    {
     "name": "stdout",
     "output_type": "stream",
     "text": [
      "Finding correlation between: catboost_15overfeat.csv and ../blend_xgb+logit_76feat_val_auc=0.7469.csv\n",
      "Column to be measured: dep_delayed_15min\n",
      "Pearson's correlation score: 0.8556837019133867\n",
      "Kendall's correlation score: 0.6927516060780876\n",
      "Spearman's correlation score: 0.8680255418665732\n"
     ]
    }
   ],
   "source": [
    "!python3 ensemble_guide/src/correlations.py catboost_15overfeat.csv ../blend_xgb+logit_76feat_val_auc=0.7469.csv"
   ]
  },
  {
   "cell_type": "code",
   "execution_count": 18,
   "metadata": {},
   "outputs": [],
   "source": [
    "!cp catboost_15overfeat.csv pred1.csv\n",
    "!cp catboost_16Boverfeat.csv pred2.csv"
   ]
  },
  {
   "cell_type": "code",
   "execution_count": 19,
   "metadata": {},
   "outputs": [
    {
     "name": "stdout",
     "output_type": "stream",
     "text": [
      "parsing: pred1.csv\n",
      "parsing: pred2.csv\n",
      "wrote to catboost_overfeat_avg.csv\n"
     ]
    }
   ],
   "source": [
    "!python3 ensemble_guide/src/kaggle_avg.py \"pred*.csv\" \"catboost_overfeat_avg.csv\" "
   ]
  },
  {
   "cell_type": "code",
   "execution_count": null,
   "metadata": {},
   "outputs": [],
   "source": []
  }
 ],
 "metadata": {
  "kernelspec": {
   "display_name": "Python 3",
   "language": "python",
   "name": "python3"
  },
  "language_info": {
   "codemirror_mode": {
    "name": "ipython",
    "version": 3
   },
   "file_extension": ".py",
   "mimetype": "text/x-python",
   "name": "python",
   "nbconvert_exporter": "python",
   "pygments_lexer": "ipython3",
   "version": "3.5.2"
  }
 },
 "nbformat": 4,
 "nbformat_minor": 2
}
